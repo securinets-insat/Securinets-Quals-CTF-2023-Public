{
 "cells": [
  {
   "cell_type": "markdown",
   "id": "a78c45b7",
   "metadata": {},
   "source": [
    "## 0-8-4: "
   ]
  },
  {
   "cell_type": "markdown",
   "id": "c87850fd",
   "metadata": {},
   "source": [
    "#### Description:\n",
    "While on a mission, one of our team members discovered a weird suitecase locked with a 7-character password. The object had this matrix carved on its side, barely readable:\n",
    "\n",
    "                [ 0.7056    ,  0.         , 0.        ,  0.9        ]\n",
    "                [ 0.        ,  0.5318     , 0.168     ,  0.         ]\n",
    "                [ 0.        , 0.168       , -1.1246   ,  0.         ]\n",
    "                [ 0.9       ,  0.         , 0.        ,  0.7882     ]\n",
    "\n",
    "After analysis, we found out that the suitecase was emitting a transmission containing more informations, and we are convinced that the password is supposed to be the real part of the smallest eigenvalue, that needs to be calculated from the unitary matrix of the quantum circuit which corresponds to some simulation with suitcase matrix. The transmission also stated some weird conditions: the trotter number is 1 and the simulation is done at t=1??? I don't know what that means exactly but I figured maybe you will?\n",
    "\n",
    "Flag format: Securinets{XXXXXXX}\n"
   ]
  },
  {
   "cell_type": "markdown",
   "id": "fb7c5e1d",
   "metadata": {},
   "source": [
    "## Decomposing Hamiltonian into Pauli Terms"
   ]
  },
  {
   "cell_type": "code",
   "execution_count": 5,
   "id": "5d710e16",
   "metadata": {},
   "outputs": [],
   "source": [
    "import numpy as np\n",
    "import itertools\n",
    "import functools as ft\n",
    "from numpy.linalg import eig\n",
    "\n",
    "from qiskit import *\n",
    "\n",
    "def decompose_ham_to_pauli(H):\n",
    "    n = int(np.log2(len(H)))\n",
    "    N = 2 ** n\n",
    "\n",
    "    # Sanity Checks\n",
    "    if H.shape != (N, N):\n",
    "        raise ValueError(\n",
    "            \"The Hamiltonian should have shape (2**n, 2**n), for any qubit number n>=1\"\n",
    "        )\n",
    "\n",
    "    if not np.allclose(H, H.conj().T):\n",
    "        raise ValueError(\"The Hamiltonian is not Hermitian\")\n",
    "\n",
    "    sI = np.eye(2, 2, dtype=complex)\n",
    "    sX = np.array([[0, 1], [1, 0]], dtype=complex)\n",
    "    sZ = np.array([[1, 0], [0,-1]], dtype=complex)\n",
    "    sY = complex(0,-1)*np.matmul(sZ,sX)\n",
    "    paulis = [sI, sX, sY, sZ]\n",
    "    paulis_label = ['I', 'X', 'Y', 'Z']\n",
    "    obs = []\n",
    "    coeffs = []\n",
    "    matrix = []\n",
    "    \n",
    "    for term in itertools.product(paulis, repeat=n):\n",
    "        matrices = [pauli for pauli in term]\n",
    "        coeff = np.trace(ft.reduce(np.kron, matrices) @ H) / N \n",
    "        coeff = np.real_if_close(coeff).item()\n",
    "        \n",
    "        if not np.allclose(coeff, 0): \n",
    "            coeffs.append(coeff)\n",
    "            obs.append(''.join([paulis_label[[i for i, x in enumerate(paulis) \n",
    "            if np.all(x == t)][0]]+str(idx) for idx, t in enumerate(reversed(term))]))\n",
    "            matrix.append(ft.reduce(np.kron, matrices))\n",
    "\n",
    "    return obs, coeffs , matrix"
   ]
  },
  {
   "cell_type": "code",
   "execution_count": 6,
   "id": "c5cc6f4f",
   "metadata": {},
   "outputs": [
    {
     "name": "stdout",
     "output_type": "stream",
     "text": [
      "['I0I1', 'Z0I1', 'X0X1', 'Y0Y1', 'I0Z1', 'Z0Z1'] [0.22525, -0.43475, 0.534, -0.366, 0.39345, 0.52165]\n"
     ]
    }
   ],
   "source": [
    "H0 = np.array([\n",
    "                [ 0.7056    ,  0.         , 0.       ,  0.9        ],\n",
    "                [ 0.        ,  0.5318     , 0.168     ,  0.         ],\n",
    "                [0.        , 0.168       , -1.1246   , 0.         ],\n",
    "                [ 0.9       ,  0.         , 0.       ,  0.7882     ]\n",
    "                ])\n",
    "\n",
    "a, b , c = decompose_ham_to_pauli(H0)\n",
    "print(a,b)"
   ]
  },
  {
   "cell_type": "markdown",
   "id": "2325a50d",
   "metadata": {},
   "source": [
    "## Hamiltonian Simulation\n",
    "This code applies to any Hamiltonian, not just this task"
   ]
  },
  {
   "cell_type": "code",
   "execution_count": 10,
   "id": "0bd568f6",
   "metadata": {},
   "outputs": [
    {
     "name": "stdout",
     "output_type": "stream",
     "text": [
      "     ┌────────────┐┌───┐                        ┌───┐┌─────────────┐     »\n",
      "q_0: ┤ Rz(0.8695) ├┤ H ├──■──────────────────■──┤ H ├┤ U2(π/2,π/2) ├──■──»\n",
      "     └───┬───┬────┘└───┘┌─┴─┐┌────────────┐┌─┴─┐├───┤├─────────────┤┌─┴─┐»\n",
      "q_1: ────┤ H ├──────────┤ X ├┤ Rz(-1.068) ├┤ X ├┤ H ├┤ U2(π/2,π/2) ├┤ X ├»\n",
      "         └───┘          └───┘└────────────┘└───┘└───┘└─────────────┘└───┘»\n",
      "«                       ┌─────────────┐                                        \n",
      "«q_0: ───────────────■──┤ U2(π/2,π/2) ├─────────────────■───────────────────■──\n",
      "«     ┌───────────┐┌─┴─┐├─────────────┤┌─────────────┐┌─┴─┐┌─────────────┐┌─┴─┐\n",
      "«q_1: ┤ Rz(0.732) ├┤ X ├┤ U2(π/2,π/2) ├┤ Rz(-0.7869) ├┤ X ├┤ Rz(-1.0433) ├┤ X ├\n",
      "«     └───────────┘└───┘└─────────────┘└─────────────┘└───┘└─────────────┘└───┘\n",
      "E-value: [0.92902529-0.37001624j 0.14792497+0.98899859j 0.20660057-0.97842537j\n",
      " 0.94942492+0.31399415j]\n",
      "E-vector [[ 7.18591252e-01+0.00000000e+00j  4.70253625e-01+5.12335965e-01j\n",
      "  -2.50284233e-17-2.85363428e-17j  1.45587101e-16+5.50711599e-17j]\n",
      " [-2.11885760e-17+1.21782362e-17j  2.40755729e-17+7.62058536e-18j\n",
      "  -1.12796042e-01+4.66112698e-03j  9.93607230e-01+0.00000000e+00j]\n",
      " [-6.58636545e-18+4.88403480e-17j  4.17816855e-17-2.91119216e-17j\n",
      "   9.93607230e-01+0.00000000e+00j  1.12796042e-01+4.66112698e-03j]\n",
      " [-4.70253625e-01+5.12335965e-01j  7.18591252e-01+0.00000000e+00j\n",
      "   9.35231913e-17-7.66091811e-18j -5.45225695e-17+9.51397128e-17j]]\n",
      "(0.14792496868373806+0.9889985862679043j)\n"
     ]
    }
   ],
   "source": [
    "from qiskit import *\n",
    "from qiskit.circuit.library import U2Gate\n",
    "from qiskit.quantum_info.operators import Operator, Pauli\n",
    "\n",
    "def exp_all_z(circuit, quantum_register, pauli_idexes, control_qubit=None, t=1):\n",
    "    \n",
    "    if len(pauli_idexes)== 0:\n",
    "        return\n",
    "    \n",
    "    # the controlled_exp(iIt) special case\n",
    "    if len(pauli_idexes) == 0 and control_qubit is not None:\n",
    "        circuit.add_register(control_qubit.register)\n",
    "        circuit.u1(t, control_qubit)\n",
    "        return\n",
    "        \n",
    "    # the first CNOTs\n",
    "    for i in range(len(pauli_idexes) - 1):\n",
    "        circuit.cx(quantum_register[pauli_idexes[i]], quantum_register[pauli_idexes[i + 1]])\n",
    "    \n",
    "    # Rz gate\n",
    "    if control_qubit is None:\n",
    "        #print(pauli_idexes)\n",
    "        circuit.rz(-2 * t, quantum_register[pauli_idexes[-1]])\n",
    "    else:\n",
    "        circuit.add_register(control_qubit.register)\n",
    "        circuit.crz(-2 * t, control_qubit, quantum_register[pauli_idexes[-1]])\n",
    "    \n",
    "    # the second CNOTs\n",
    "    for i in reversed(range(len(pauli_idexes) - 1)):\n",
    "        circuit.cx(quantum_register[pauli_idexes[i]], quantum_register[pauli_idexes[i + 1]])\n",
    "\n",
    "\n",
    "def exp_pauli(pauli, quantum_register, control_qubit=None, t=1):\n",
    "\n",
    "    if len(pauli) != len(quantum_register):\n",
    "        raise Exception(\"Pauli string doesn't match to the quantum register\")\n",
    "\n",
    "    pauli_circuit = QuantumCircuit(quantum_register)\n",
    "    circuit_bracket = QuantumCircuit(quantum_register)\n",
    "    pauli_idexes = []\n",
    "\n",
    "    for i in range(len(quantum_register)):\n",
    "        if pauli[i] == 'I':\n",
    "            continue\n",
    "        elif pauli[i] == 'Z':\n",
    "            pauli_idexes.append(i)\n",
    "        elif pauli[i] == 'X':\n",
    "            circuit_bracket.h(quantum_register[i])\n",
    "            pauli_idexes.append(i)\n",
    "        elif pauli[i] == 'Y':\n",
    "            circuit_bracket.append(U2Gate(np.pi / 2, np.pi / 2), [quantum_register[i]])\n",
    "            pauli_idexes.append(i)\n",
    "        \n",
    "\n",
    "    pauli_circuit &= circuit_bracket\n",
    "    exp_all_z(pauli_circuit, quantum_register, pauli_idexes, control_qubit, t)\n",
    "    pauli_circuit &= circuit_bracket\n",
    "\n",
    "    return pauli_circuit\n",
    "\n",
    "def hamiltonian_simulation(hamiltonian, quantum_register=None, control_qubit=None, t=1, trotter_number=1):\n",
    "\n",
    "    if quantum_register is None:\n",
    "        quantum_register = QuantumRegister(len(list(hamiltonian.keys())[0]))\n",
    "    if control_qubit in quantum_register:\n",
    "        raise Exception(\"the control qubit is in the target register\")\n",
    "\n",
    "    delta_t = t / trotter_number\n",
    "    exp_hamiltonian = QuantumCircuit(quantum_register)\n",
    "    exp_delta_t = QuantumCircuit(quantum_register)\n",
    "\n",
    "    for pauli in hamiltonian:\n",
    "        weight = hamiltonian[pauli]\n",
    "        exp_delta_t &= exp_pauli(pauli, quantum_register, control_qubit, weight * delta_t)\n",
    "\n",
    "    for i in range(trotter_number):\n",
    "        exp_hamiltonian &= exp_delta_t\n",
    "\n",
    "    return exp_hamiltonian\n",
    "\n",
    "hamiltonian = {\"II\": 0.22525, \"ZI\": -0.43475, \"XX\": 0.534, \"YY\": -0.366, \"IZ\": 0.39345, \"ZZ\": 0.52165}\n",
    "\n",
    "quantum_register = QuantumRegister(2, 'q')\n",
    "circuit = hamiltonian_simulation(hamiltonian, quantum_register, t= 1)\n",
    "\n",
    "print(circuit)\n",
    "\n",
    "\n",
    "op = Operator(circuit)\n",
    "hamiltonian_matrix = op.to_matrix()\n",
    "\n",
    "w,v=eig(hamiltonian_matrix)\n",
    "print('E-value:', w)\n",
    "print('E-vector', v)\n",
    "\n",
    "w.sort()\n",
    "print(w[0])"
   ]
  },
  {
   "cell_type": "markdown",
   "id": "27269d98",
   "metadata": {},
   "source": [
    "## Flag: Securinets{0.14792}"
   ]
  }
 ],
 "metadata": {
  "kernelspec": {
   "display_name": "Python 3 (ipykernel)",
   "language": "python",
   "name": "python3"
  },
  "language_info": {
   "codemirror_mode": {
    "name": "ipython",
    "version": 3
   },
   "file_extension": ".py",
   "mimetype": "text/x-python",
   "name": "python",
   "nbconvert_exporter": "python",
   "pygments_lexer": "ipython3",
   "version": "3.10.9"
  }
 },
 "nbformat": 4,
 "nbformat_minor": 5
}
